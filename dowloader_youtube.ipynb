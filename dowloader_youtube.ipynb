{
 "cells": [
  {
   "cell_type": "markdown",
   "id": "09e22b50-bdf0-427d-a92d-8bb7cce72003",
   "metadata": {},
   "source": [
    "Instalando pytube"
   ]
  },
  {
   "cell_type": "code",
   "execution_count": 1,
   "id": "dbd8b04b-f8c1-4e9b-ad7a-cd37cb1d7963",
   "metadata": {},
   "outputs": [],
   "source": [
    "# !pip install pytube"
   ]
  },
  {
   "cell_type": "code",
   "execution_count": 2,
   "id": "17828f52-040b-4bbc-b29b-1a260a5e1aa1",
   "metadata": {},
   "outputs": [
    {
     "name": "stdout",
     "output_type": "stream",
     "text": [
      "Download concluido com sucesso!\n"
     ]
    }
   ],
   "source": [
    "from pytube import YouTube, streams\n",
    "\n",
    "origin = \"\"\n",
    "destiny = \"./\"\n",
    "\n",
    "video = YouTube(origin)\n",
    "\n",
    "stream = video.streams.get_highest_resolution()\n",
    "\n",
    "stream.download(output_path=destiny)\n",
    "\n",
    "print(\"Download concluido com sucesso!\")"
   ]
  }
 ],
 "metadata": {
  "kernelspec": {
   "display_name": "Python 3 (ipykernel)",
   "language": "python",
   "name": "python3"
  },
  "language_info": {
   "codemirror_mode": {
    "name": "ipython",
    "version": 3
   },
   "file_extension": ".py",
   "mimetype": "text/x-python",
   "name": "python",
   "nbconvert_exporter": "python",
   "pygments_lexer": "ipython3",
   "version": "3.10.2"
  }
 },
 "nbformat": 4,
 "nbformat_minor": 5
}
