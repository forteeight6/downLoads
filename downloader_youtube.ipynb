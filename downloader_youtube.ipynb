{
 "cells": [
  {
   "cell_type": "code",
   "execution_count": 1,
   "id": "dbd8b04b-f8c1-4e9b-ad7a-cd37cb1d7963",
   "metadata": {},
   "outputs": [],
   "source": [
    "# !pip install pytube"
   ]
  },
  {
   "cell_type": "code",
   "execution_count": 26,
   "id": "ec149835-650d-4a78-a2c7-70a36df1ecb5",
   "metadata": {},
   "outputs": [],
   "source": [
    "from pytube import YouTube, streams"
   ]
  },
  {
   "cell_type": "code",
   "execution_count": 32,
   "id": "b3e805b9-8257-4cc5-bcae-1e385cc2d79f",
   "metadata": {},
   "outputs": [
    {
     "name": "stdout",
     "output_type": "stream",
     "text": [
      "Download completed successfully!\n"
     ]
    }
   ],
   "source": [
    "def downloadVideoFromYoutube(*args) -> None:\n",
    "    \"\"\" Download de video do Youtube / Youtube video download.\n",
    "    \n",
    "    Função que possibilita o download de video do Youtube.\n",
    "    Function that allows you to download video from Youtube.\n",
    "    \n",
    "    :param - args[0]: Url of the video you want to download.\n",
    "    :param - args[1]: Location where you want to save the video.\n",
    "    \"\"\"\n",
    "\n",
    "    video = YouTube(args[0])\n",
    "    stream = video.streams.get_highest_resolution()\n",
    "    stream.download(output_path=args[1])\n",
    "    print('Download completed successfully!')\n",
    "    return None\n",
    "    \n",
    "url = \"https://www.youtube.com/watch?v=_7nISfpofec\"\n",
    "location = \"./\"\n",
    "downloadVideoFromYoutube(url, location)"
   ]
  },
  {
   "cell_type": "code",
   "execution_count": 33,
   "id": "2a216e81-8941-4b10-959e-cfac1a4378e7",
   "metadata": {},
   "outputs": [
    {
     "name": "stderr",
     "output_type": "stream",
     "text": [
      "WARNING:root:None\n"
     ]
    },
    {
     "name": "stdout",
     "output_type": "stream",
     "text": [
      "Download completed successfully!\n"
     ]
    }
   ],
   "source": [
    "import logging as log\n",
    "\n",
    "def test_downloadVideoFromYoutube():\n",
    "    \"\"\" Entry-str-url, Expect-None\n",
    "    \n",
    "    I hope it's not returning anything.\n",
    "    \"\"\"\n",
    "    entry_1 = \"https://www.youtube.com/watch?v=_7nISfpofec\"\n",
    "    entry_2 = \"./\"\n",
    "    \n",
    "    expect = None\n",
    "    result = downloadVideoFromYoutube(entry_1, entry_2)\n",
    "    assert result == expect\n",
    "    log.warning(result)\n",
    "\n",
    "test_downloadVideoFromYoutube()"
   ]
  }
 ],
 "metadata": {
  "kernelspec": {
   "display_name": "Python 3 (ipykernel)",
   "language": "python",
   "name": "python3"
  },
  "language_info": {
   "codemirror_mode": {
    "name": "ipython",
    "version": 3
   },
   "file_extension": ".py",
   "mimetype": "text/x-python",
   "name": "python",
   "nbconvert_exporter": "python",
   "pygments_lexer": "ipython3",
   "version": "3.10.2"
  }
 },
 "nbformat": 4,
 "nbformat_minor": 5
}
